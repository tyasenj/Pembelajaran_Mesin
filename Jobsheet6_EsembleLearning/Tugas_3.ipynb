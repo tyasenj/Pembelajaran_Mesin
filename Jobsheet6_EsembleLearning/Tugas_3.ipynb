{
 "cells": [
  {
   "cell_type": "markdown",
   "metadata": {},
   "source": [
    "# **Tugas 3**\n",
    "\n",
    "Dengan menggunakan dataset diabetes, buatlah ensemble voting dengan algoritma\n",
    "\n",
    "1. Logistic Regression\n",
    "\n",
    "2. SVM kernel polynomial\n",
    "\n",
    "3. Decission Tree\n",
    "\n",
    "Anda boleh melakukan eksplorasi dengan melakukan tunning hyperparameter\n",
    "\n",
    "### **Import Library**"
   ]
  },
  {
   "cell_type": "code",
   "execution_count": 3,
   "metadata": {},
   "outputs": [],
   "source": [
    "import numpy as np\n",
    "import pandas as pd\n",
    "from sklearn.model_selection import train_test_split, GridSearchCV\n",
    "from sklearn.linear_model import LogisticRegression\n",
    "from sklearn.svm import SVC\n",
    "from sklearn.tree import DecisionTreeClassifier\n",
    "from sklearn.ensemble import VotingClassifier\n",
    "from sklearn.metrics import accuracy_score, classification_report\n",
    "from sklearn.preprocessing import StandardScaler"
   ]
  },
  {
   "cell_type": "markdown",
   "metadata": {},
   "source": [
    "### **Persiapan Data**"
   ]
  },
  {
   "cell_type": "code",
   "execution_count": 5,
   "metadata": {},
   "outputs": [
    {
     "name": "stdout",
     "output_type": "stream",
     "text": [
      "   Pregnancies  Glucose  BloodPressure  SkinThickness  Insulin   BMI  \\\n",
      "0            6      148             72             35        0  33.6   \n",
      "1            1       85             66             29        0  26.6   \n",
      "2            8      183             64              0        0  23.3   \n",
      "3            1       89             66             23       94  28.1   \n",
      "4            0      137             40             35      168  43.1   \n",
      "\n",
      "   DiabetesPedigreeFunction  Age  Outcome  \n",
      "0                     0.627   50        1  \n",
      "1                     0.351   31        0  \n",
      "2                     0.672   32        1  \n",
      "3                     0.167   21        0  \n",
      "4                     2.288   33        1  \n"
     ]
    }
   ],
   "source": [
    "# Load data\n",
    "df = pd.read_csv('data/diabetes.csv')\n",
    "\n",
    "# Tampilkan 5 baris pertama data\n",
    "print(df.head())"
   ]
  },
  {
   "cell_type": "code",
   "execution_count": 6,
   "metadata": {},
   "outputs": [
    {
     "data": {
      "text/plain": [
       "Pregnancies                 0\n",
       "Glucose                     0\n",
       "BloodPressure               0\n",
       "SkinThickness               0\n",
       "Insulin                     0\n",
       "BMI                         0\n",
       "DiabetesPedigreeFunction    0\n",
       "Age                         0\n",
       "Outcome                     0\n",
       "dtype: int64"
      ]
     },
     "execution_count": 6,
     "metadata": {},
     "output_type": "execute_result"
    }
   ],
   "source": [
    "# Cek kolom null\n",
    "df.isnull().sum()"
   ]
  },
  {
   "cell_type": "markdown",
   "metadata": {},
   "source": [
    "### **Split Data Training & Testing**"
   ]
  },
  {
   "cell_type": "code",
   "execution_count": 7,
   "metadata": {},
   "outputs": [],
   "source": [
    "# Pisahkan fitur (X) dan label (y)\n",
    "X = df.drop(columns=['Outcome'])\n",
    "y = df['Outcome']\n",
    "\n",
    "# Split data menjadi training dan testing set\n",
    "X_train, X_test, y_train, y_test = train_test_split(X, y, test_size=0.2, random_state=42)"
   ]
  },
  {
   "cell_type": "markdown",
   "metadata": {},
   "source": [
    "### **Normalisasi Fitur**"
   ]
  },
  {
   "cell_type": "code",
   "execution_count": 8,
   "metadata": {},
   "outputs": [],
   "source": [
    "scaler = StandardScaler()\n",
    "X_train = scaler.fit_transform(X_train)\n",
    "X_test = scaler.transform(X_test)"
   ]
  },
  {
   "cell_type": "markdown",
   "metadata": {},
   "source": [
    "### **Tuning Hyperparameter untuk Logistic Regression**"
   ]
  },
  {
   "cell_type": "code",
   "execution_count": 9,
   "metadata": {},
   "outputs": [
    {
     "name": "stdout",
     "output_type": "stream",
     "text": [
      "Best Logistic Regression Parameters: {'C': 10, 'penalty': 'l2'}\n",
      "Best SVM Parameters: {'C': 10, 'degree': 3, 'gamma': 'scale'}\n"
     ]
    }
   ],
   "source": [
    "log_reg = LogisticRegression(solver='liblinear')\n",
    "param_grid_lr = {\n",
    "    'C': [0.01, 0.1, 1, 10, 100],\n",
    "    'penalty': ['l1', 'l2']\n",
    "}\n",
    "grid_search_lr = GridSearchCV(log_reg, param_grid_lr, cv=5)\n",
    "grid_search_lr.fit(X_train, y_train)\n",
    "best_lr = grid_search_lr.best_estimator_\n",
    "print(\"Best Logistic Regression Parameters:\", grid_search_lr.best_params_)\n"
   ]
  },
  {
   "cell_type": "markdown",
   "metadata": {},
   "source": [
    "### **Tuning Hyperparameter untuk SVM dengan kernel polynomial**"
   ]
  },
  {
   "cell_type": "code",
   "execution_count": 11,
   "metadata": {},
   "outputs": [
    {
     "name": "stdout",
     "output_type": "stream",
     "text": [
      "Best SVM Parameters: {'C': 10, 'degree': 3, 'gamma': 'scale'}\n"
     ]
    }
   ],
   "source": [
    "svm = SVC(kernel='poly', probability=True)\n",
    "param_grid_svm = {\n",
    "    'C': [0.1, 1, 10],\n",
    "    'degree': [2, 3, 4],\n",
    "    'gamma': ['scale', 'auto']\n",
    "}\n",
    "grid_search_svm = GridSearchCV(svm, param_grid_svm, cv=5)\n",
    "grid_search_svm.fit(X_train, y_train)\n",
    "best_svm = grid_search_svm.best_estimator_\n",
    "print(\"Best SVM Parameters:\", grid_search_svm.best_params_)"
   ]
  },
  {
   "cell_type": "markdown",
   "metadata": {},
   "source": [
    "### **Tuning Hyperparameter untuk Decision Tree**"
   ]
  },
  {
   "cell_type": "code",
   "execution_count": 10,
   "metadata": {},
   "outputs": [
    {
     "name": "stdout",
     "output_type": "stream",
     "text": [
      "Best Decision Tree Parameters: {'criterion': 'entropy', 'max_depth': 30, 'min_samples_split': 10}\n"
     ]
    }
   ],
   "source": [
    "dt = DecisionTreeClassifier()\n",
    "param_grid_dt = {\n",
    "    'criterion': ['gini', 'entropy'],\n",
    "    'max_depth': [None, 10, 20, 30],\n",
    "    'min_samples_split': [2, 5, 10]\n",
    "}\n",
    "grid_search_dt = GridSearchCV(dt, param_grid_dt, cv=5)\n",
    "grid_search_dt.fit(X_train, y_train)\n",
    "best_dt = grid_search_dt.best_estimator_\n",
    "print(\"Best Decision Tree Parameters:\", grid_search_dt.best_params_)"
   ]
  },
  {
   "cell_type": "markdown",
   "metadata": {},
   "source": [
    "### **Membangun Ensemble Voting Classifier**"
   ]
  },
  {
   "cell_type": "code",
   "execution_count": 12,
   "metadata": {},
   "outputs": [
    {
     "name": "stdout",
     "output_type": "stream",
     "text": [
      "Voting Classifier Test set accuracy: 0.78\n",
      "              precision    recall  f1-score   support\n",
      "\n",
      "           0       0.82      0.84      0.83        99\n",
      "           1       0.70      0.67      0.69        55\n",
      "\n",
      "    accuracy                           0.78       154\n",
      "   macro avg       0.76      0.76      0.76       154\n",
      "weighted avg       0.78      0.78      0.78       154\n",
      "\n"
     ]
    }
   ],
   "source": [
    "# Membangun Voting Classifier\n",
    "voting_clf = VotingClassifier(estimators=[\n",
    "    ('log_reg', best_lr),\n",
    "    ('svm', best_svm),\n",
    "    ('decision_tree', best_dt)\n",
    "], voting='soft')  # Menggunakan soft voting\n",
    "\n",
    "# Fit Voting Classifier pada data training\n",
    "voting_clf.fit(X_train, y_train)\n",
    "\n",
    "# Prediksi dengan set test\n",
    "y_pred = voting_clf.predict(X_test)\n",
    "\n",
    "# Hitung akurasi\n",
    "acc = accuracy_score(y_test, y_pred)\n",
    "print(f\"Voting Classifier Test set accuracy: {acc:.2f}\")\n",
    "print(classification_report(y_test, y_pred))\n"
   ]
  }
 ],
 "metadata": {
  "kernelspec": {
   "display_name": "base",
   "language": "python",
   "name": "python3"
  },
  "language_info": {
   "codemirror_mode": {
    "name": "ipython",
    "version": 3
   },
   "file_extension": ".py",
   "mimetype": "text/x-python",
   "name": "python",
   "nbconvert_exporter": "python",
   "pygments_lexer": "ipython3",
   "version": "3.12.3"
  }
 },
 "nbformat": 4,
 "nbformat_minor": 2
}
