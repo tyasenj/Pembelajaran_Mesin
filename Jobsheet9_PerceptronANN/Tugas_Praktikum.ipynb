{
 "cells": [
  {
   "cell_type": "markdown",
   "metadata": {},
   "source": [
    "# **Tugas**\n",
    "\n",
    "- Lakukan klasifikasi pada data MNIST dengan menggunakan model ANN\n",
    "\n",
    "- Anda diperbolehkan melakukan eksplorasi terhadap,\n",
    "\n",
    "    - Metode pra pengolahan\n",
    "\n",
    "    - Pemilihan fitur\n",
    "\n",
    "    - Arsitektur ANN\n",
    "\n",
    "    - Fungsi Aktiviasi\n",
    "\n",
    "- ANN diimplementasikan dengan menggunakan tensorflow.\n",
    "\n",
    "- DIKERJAKAN SECARA BERKELOMPOK\n",
    "\n",
    "- JELASKAN HASIL YANG ANDA DAPATKAN,\n",
    "\n",
    "    - AKURASI\n",
    "\n",
    "    - CONFUSION MATRIX\n",
    "\n",
    "    - KONFIGURASI MODEL --> MULAI DARI PRA PENGOLAHAN SAMPAI ARSITEKTUR ANN"
   ]
  }
 ],
 "metadata": {
  "language_info": {
   "name": "python"
  }
 },
 "nbformat": 4,
 "nbformat_minor": 2
}
