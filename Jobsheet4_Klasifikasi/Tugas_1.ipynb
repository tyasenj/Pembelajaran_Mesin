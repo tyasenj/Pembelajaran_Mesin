{
 "cells": [
  {
   "cell_type": "markdown",
   "metadata": {},
   "source": [
    "# **Tugas 1**\n",
    "\n",
    "1. Buatlah model klasifikasi dengan menggunakan SVM untuk data suara, voice.csv. \n",
    "\n",
    "2. Buatlah model klasfikasi Multinomial Naive Bayes dengan ketentuan,\n",
    "\n",
    "    1. Menggunakan data spam.csv\n",
    "\n",
    "    2. Fitur CountVectorizer dengan mengaktifkan stop_words\n",
    "\n",
    "    3. Evaluasi hasilnya\n",
    "\n",
    "3. Buatlah model klasfikasi Multinomial Naive Bayes dengan ketentuan,\n",
    "\n",
    "    1. Menggunakan data spam.csv\n",
    "\n",
    "    2. Fitur TF-IDF dengan mengaktifkan stop_words\n",
    "\n",
    "    3. Evaluasi hasilnya dan bandingkan dengan hasil pada Tugas no 2.\n",
    "\n",
    "    4. Berikan kesimpulan fitur mana yang terbaik pada kasus data spam.csv"
   ]
  },
  {
   "cell_type": "markdown",
   "metadata": {},
   "source": [
    "## **Model Klasifikasi SVM untuk Data Suara (voice.csv)**"
   ]
  },
  {
   "cell_type": "markdown",
   "metadata": {},
   "source": [
    "## 1. Import Libraries dan Load Data"
   ]
  },
  {
   "cell_type": "code",
   "execution_count": 1,
   "metadata": {},
   "outputs": [],
   "source": [
    "import pandas as pd\n",
    "from sklearn.model_selection import train_test_split\n",
    "from sklearn.svm import SVC\n",
    "from sklearn.metrics import classification_report, confusion_matrix\n",
    "import seaborn as sns\n",
    "import matplotlib.pyplot as plt"
   ]
  },
  {
   "cell_type": "code",
   "execution_count": 2,
   "metadata": {},
   "outputs": [
    {
     "name": "stdout",
     "output_type": "stream",
     "text": [
      "   meanfreq        sd    median       Q25       Q75       IQR       skew  \\\n",
      "0  0.059781  0.064241  0.032027  0.015071  0.090193  0.075122  12.863462   \n",
      "1  0.066009  0.067310  0.040229  0.019414  0.092666  0.073252  22.423285   \n",
      "2  0.077316  0.083829  0.036718  0.008701  0.131908  0.123207  30.757155   \n",
      "3  0.151228  0.072111  0.158011  0.096582  0.207955  0.111374   1.232831   \n",
      "4  0.135120  0.079146  0.124656  0.078720  0.206045  0.127325   1.101174   \n",
      "\n",
      "          kurt    sp.ent       sfm  ...  centroid   meanfun    minfun  \\\n",
      "0   274.402906  0.893369  0.491918  ...  0.059781  0.084279  0.015702   \n",
      "1   634.613855  0.892193  0.513724  ...  0.066009  0.107937  0.015826   \n",
      "2  1024.927705  0.846389  0.478905  ...  0.077316  0.098706  0.015656   \n",
      "3     4.177296  0.963322  0.727232  ...  0.151228  0.088965  0.017798   \n",
      "4     4.333713  0.971955  0.783568  ...  0.135120  0.106398  0.016931   \n",
      "\n",
      "     maxfun   meandom    mindom    maxdom   dfrange   modindx  label  \n",
      "0  0.275862  0.007812  0.007812  0.007812  0.000000  0.000000   male  \n",
      "1  0.250000  0.009014  0.007812  0.054688  0.046875  0.052632   male  \n",
      "2  0.271186  0.007990  0.007812  0.015625  0.007812  0.046512   male  \n",
      "3  0.250000  0.201497  0.007812  0.562500  0.554688  0.247119   male  \n",
      "4  0.266667  0.712812  0.007812  5.484375  5.476562  0.208274   male  \n",
      "\n",
      "[5 rows x 21 columns]\n"
     ]
    }
   ],
   "source": [
    "# Load the dataset\n",
    "data = pd.read_csv('voice.csv')\n",
    "\n",
    "# Melihat data\n",
    "print(data.head())"
   ]
  },
  {
   "cell_type": "markdown",
   "metadata": {},
   "source": [
    "## 2. Preprocessing Data"
   ]
  },
  {
   "cell_type": "code",
   "execution_count": 3,
   "metadata": {},
   "outputs": [],
   "source": [
    "X = data.drop('label', axis=1)\n",
    "y = data['label'].map({'male': 1, 'female': 0})  # Encode label\n",
    "\n",
    "# Bagi data menjadi training dan testing\n",
    "X_train, X_test, y_train, y_test = train_test_split(X, y, test_size=0.2, random_state=42)\n"
   ]
  },
  {
   "cell_type": "markdown",
   "metadata": {},
   "source": [
    "## 3. Membangun Model SVM"
   ]
  },
  {
   "cell_type": "code",
   "execution_count": 4,
   "metadata": {},
   "outputs": [
    {
     "name": "stdout",
     "output_type": "stream",
     "text": [
      "              precision    recall  f1-score   support\n",
      "\n",
      "           0       0.68      0.54      0.60       297\n",
      "           1       0.65      0.77      0.71       337\n",
      "\n",
      "    accuracy                           0.66       634\n",
      "   macro avg       0.67      0.65      0.65       634\n",
      "weighted avg       0.66      0.66      0.66       634\n",
      "\n"
     ]
    }
   ],
   "source": [
    "# Buat model SVM dengan kernel RBF\n",
    "model = SVC(kernel='rbf', class_weight='balanced')\n",
    "\n",
    "# Train model\n",
    "model.fit(X_train, y_train)\n",
    "\n",
    "# Prediksi\n",
    "y_pred = model.predict(X_test)\n",
    "\n",
    "# Evaluasi model\n",
    "print(classification_report(y_test, y_pred))\n"
   ]
  },
  {
   "cell_type": "markdown",
   "metadata": {},
   "source": [
    "## 4. Confusion Matrix"
   ]
  },
  {
   "cell_type": "code",
   "execution_count": 5,
   "metadata": {},
   "outputs": [
    {
     "data": {
      "image/png": "[encoded data removed]",
      "text/plain": [
       "<Figure size 640x480 with 1 Axes>"
      ]
     },
     "metadata": {},
     "output_type": "display_data"
    }
   ],
   "source": [
    "# Confusion matrix\n",
    "cm = confusion_matrix(y_test, y_pred)\n",
    "sns.heatmap(cm, annot=True, fmt='d', cbar=False, cmap='Blues')\n",
    "plt.xlabel('True Label')\n",
    "plt.ylabel('Predicted Label')\n",
    "plt.show()\n"
   ]
  },
  {
   "cell_type": "markdown",
   "metadata": {},
   "source": [
    "## **Model Klasifikasi Multinomial Naive Bayes dengan CountVectorizer (spam.csv)**"
   ]
  },
  {
   "cell_type": "markdown",
   "metadata": {},
   "source": [
    "### 1. Import Libraries dan Load Data"
   ]
  },
  {
   "cell_type": "code",
   "execution_count": 6,
   "metadata": {},
   "outputs": [],
   "source": [
    "from sklearn.feature_extraction.text import CountVectorizer\n",
    "from sklearn.naive_bayes import MultinomialNB\n",
    "from sklearn.metrics import classification_report, confusion_matrix"
   ]
  },
  {
   "cell_type": "code",
   "execution_count": 7,
   "metadata": {},
   "outputs": [],
   "source": [
    "# Load dataset\n",
    "spam_data = pd.read_csv('spam.csv', encoding='latin-1')\n",
    "\n",
    "# Hapus kolom yang tidak digunakan\n",
    "spam_data = spam_data[['v1', 'v2']]  # v1 adalah label, v2 adalah teks\n",
    "\n",
    "# Rename columns for easier use\n",
    "spam_data.columns = ['label', 'text']\n",
    "\n",
    "# Encode label\n",
    "spam_data['label'] = spam_data['label'].map({'spam': 1, 'ham': 0})"
   ]
  },
  {
   "cell_type": "markdown",
   "metadata": {},
   "source": [
    "### 2. CountVectorizer dengan stop_words"
   ]
  },
  {
   "cell_type": "code",
   "execution_count": 8,
   "metadata": {},
   "outputs": [],
   "source": [
    "# Menggunakan CountVectorizer\n",
    "vectorizer = CountVectorizer(stop_words='english')\n",
    "\n",
    "# Pisahkan fitur dan label\n",
    "X = vectorizer.fit_transform(spam_data['text'])\n",
    "y = spam_data['label']\n",
    "\n",
    "# Bagi data menjadi training dan testing\n",
    "X_train, X_test, y_train, y_test = train_test_split(X, y, test_size=0.2, random_state=42)\n"
   ]
  },
  {
   "cell_type": "markdown",
   "metadata": {},
   "source": [
    "### 3. Membangun Model Multinomial Naive Bayes"
   ]
  },
  {
   "cell_type": "code",
   "execution_count": 9,
   "metadata": {},
   "outputs": [
    {
     "name": "stdout",
     "output_type": "stream",
     "text": [
      "              precision    recall  f1-score   support\n",
      "\n",
      "           0       0.99      0.99      0.99       965\n",
      "           1       0.93      0.93      0.93       150\n",
      "\n",
      "    accuracy                           0.98      1115\n",
      "   macro avg       0.96      0.96      0.96      1115\n",
      "weighted avg       0.98      0.98      0.98      1115\n",
      "\n"
     ]
    }
   ],
   "source": [
    "# Buat model Multinomial Naive Bayes\n",
    "model_nb = MultinomialNB()\n",
    "\n",
    "# Train model\n",
    "model_nb.fit(X_train, y_train)\n",
    "\n",
    "# Prediksi\n",
    "y_pred = model_nb.predict(X_test)\n",
    "\n",
    "# Evaluasi model\n",
    "print(classification_report(y_test, y_pred))\n"
   ]
  },
  {
   "cell_type": "markdown",
   "metadata": {},
   "source": [
    "### 4. Confusion Matrix"
   ]
  },
  {
   "cell_type": "code",
   "execution_count": 10,
   "metadata": {},
   "outputs": [
    {
     "data": {
      "image/png": "[encoded data removed]",
      "text/plain": [
       "<Figure size 640x480 with 1 Axes>"
      ]
     },
     "metadata": {},
     "output_type": "display_data"
    }
   ],
   "source": [
    "cm = confusion_matrix(y_test, y_pred)\n",
    "sns.heatmap(cm, annot=True, fmt='d', cbar=False, cmap='Blues')\n",
    "plt.xlabel('True Label')\n",
    "plt.ylabel('Predicted Label')\n",
    "plt.show()\n"
   ]
  },
  {
   "cell_type": "markdown",
   "metadata": {},
   "source": [
    "## **Model Klasifikasi Multinomial Naive Bayes dengan TF-IDF (spam.csv)**"
   ]
  },
  {
   "cell_type": "markdown",
   "metadata": {},
   "source": [
    "### 1. TF-IDF Vectorizer dengan stop_words"
   ]
  },
  {
   "cell_type": "code",
   "execution_count": 11,
   "metadata": {},
   "outputs": [],
   "source": [
    "from sklearn.feature_extraction.text import TfidfVectorizer\n",
    "\n",
    "# Menggunakan TfidfVectorizer\n",
    "tfidf_vectorizer = TfidfVectorizer(stop_words='english')\n",
    "\n",
    "# Pisahkan fitur dan label\n",
    "X_tfidf = tfidf_vectorizer.fit_transform(spam_data['text'])\n",
    "y = spam_data['label']\n",
    "\n",
    "# Bagi data menjadi training dan testing\n",
    "X_train_tfidf, X_test_tfidf, y_train_tfidf, y_test_tfidf = train_test_split(X_tfidf, y, test_size=0.2, random_state=42)\n"
   ]
  },
  {
   "cell_type": "markdown",
   "metadata": {},
   "source": [
    "### 2. Membangun Model Multinomial Naive Bayes dengan TF-IDF"
   ]
  },
  {
   "cell_type": "code",
   "execution_count": 12,
   "metadata": {},
   "outputs": [
    {
     "name": "stdout",
     "output_type": "stream",
     "text": [
      "              precision    recall  f1-score   support\n",
      "\n",
      "           0       0.96      1.00      0.98       965\n",
      "           1       1.00      0.77      0.87       150\n",
      "\n",
      "    accuracy                           0.97      1115\n",
      "   macro avg       0.98      0.88      0.93      1115\n",
      "weighted avg       0.97      0.97      0.97      1115\n",
      "\n"
     ]
    }
   ],
   "source": [
    "# Buat model Multinomial Naive Bayes\n",
    "model_nb_tfidf = MultinomialNB()\n",
    "\n",
    "# Train model\n",
    "model_nb_tfidf.fit(X_train_tfidf, y_train_tfidf)\n",
    "\n",
    "# Prediksi\n",
    "y_pred_tfidf = model_nb_tfidf.predict(X_test_tfidf)\n",
    "\n",
    "# Evaluasi model\n",
    "print(classification_report(y_test_tfidf, y_pred_tfidf))\n"
   ]
  },
  {
   "cell_type": "markdown",
   "metadata": {},
   "source": [
    "### 3. Confusion Matrix"
   ]
  },
  {
   "cell_type": "code",
   "execution_count": 13,
   "metadata": {},
   "outputs": [
    {
     "data": {
      "image/png": "[encoded data removed]",
      "text/plain": [
       "<Figure size 640x480 with 1 Axes>"
      ]
     },
     "metadata": {},
     "output_type": "display_data"
    }
   ],
   "source": [
    "cm_tfidf = confusion_matrix(y_test_tfidf, y_pred_tfidf)\n",
    "sns.heatmap(cm_tfidf, annot=True, fmt='d', cbar=False, cmap='Blues')\n",
    "plt.xlabel('True Label')\n",
    "plt.ylabel('Predicted Label')\n",
    "plt.show()\n"
   ]
  },
  {
   "cell_type": "markdown",
   "metadata": {},
   "source": [
    "### Kesimpulan:\n",
    "\n",
    "**CountVectorizer** lebih efektif jika dokumen pendek dan menggunakan banyak kata-kata umum.\n",
    "\n",
    "**TF-IDF** bekerja lebih baik jika Anda ingin fokus pada kata-kata yang lebih spesifik dalam konteks dokumen."
   ]
  }
 ],
 "metadata": {
  "kernelspec": {
   "display_name": "base",
   "language": "python",
   "name": "python3"
  },
  "language_info": {
   "codemirror_mode": {
    "name": "ipython",
    "version": 3
   },
   "file_extension": ".py",
   "mimetype": "text/x-python",
   "name": "python",
   "nbconvert_exporter": "python",
   "pygments_lexer": "ipython3",
   "version": "3.12.3"
  }
 },
 "nbformat": 4,
 "nbformat_minor": 2
}
