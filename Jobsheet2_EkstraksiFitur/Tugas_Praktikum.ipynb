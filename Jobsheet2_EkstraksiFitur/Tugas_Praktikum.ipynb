{
  "nbformat": 4,
  "nbformat_minor": 0,
  "metadata": {
    "colab": {
      "provenance": [],
      "authorship_tag": "ABX9TyOZOC83lqDJ2hvxK9tXknf2",
      "include_colab_link": true
    },
    "kernelspec": {
      "name": "python3",
      "display_name": "Python 3"
    },
    "language_info": {
      "name": "python"
    }
  },
  "cells": [
    {
      "cell_type": "markdown",
      "metadata": {
        "id": "view-in-github",
        "colab_type": "text"
      },
      "source": [
        "<a href=\"https://colab.research.google.com/github/tyasenj/Pembelajaran_Mesin/blob/main/Jobsheet2_EkstraksiFitur/Tugas_Praktikum.ipynb\" target=\"_parent\"><img src=\"https://colab.research.google.com/assets/colab-badge.svg\" alt=\"Open In Colab\"/></a>"
      ]
    },
    {
      "cell_type": "markdown",
      "source": [
        "## **Deskripsi Tugas**\n",
        "\n",
        "Pada tugas pratikum ini Anda akan menggunakan data \"Wisconsin Breast Cancer\". Data tersebut terdiri dari 569 data yang digunakan untuk mendiagnonis jenis kanker **Malignant (M) dan Benign (B)**. Tugas Anda adalah,\n",
        "\n",
        "1. Pisahkan antara variabel yang dapat digunakan dan variabel yang tidak dapat digunakan.\n",
        "\n",
        "2. Lakukan proses encoding pada kolom \"diagnosis\".\n",
        "\n",
        "3. Lakukan proses standarisasi pada semua kolom yang memiliki nilai numerik.\n",
        "\n",
        "4. Lakukan proses stratified split data untuk membuat data latih dan data uji dengan rasio 80:20.\n"
      ],
      "metadata": {
        "id": "zamLU5UFVZ6Z"
      }
    },
    {
      "cell_type": "markdown",
      "source": [
        "## **1. Memuat Dataset dan Memisahkan Variabel**"
      ],
      "metadata": {
        "id": "fScUOdRWV0tA"
      }
    },
    {
      "cell_type": "code",
      "execution_count": 3,
      "metadata": {
        "id": "_TeIyE2GVUHP"
      },
      "outputs": [],
      "source": [
        "import pandas as pd\n",
        "\n",
        "# Memuat data\n",
        "dpath = 'wbc.csv'  # Ubah sesuai dengan lokasi dataset\n",
        "df = pd.read_csv(dpath)"
      ]
    },
    {
      "cell_type": "markdown",
      "source": [
        "**Memeriksa kolom-kolom dataset**"
      ],
      "metadata": {
        "id": "jLmbNJsdW8D2"
      }
    },
    {
      "cell_type": "code",
      "source": [
        "print(df.columns)"
      ],
      "metadata": {
        "colab": {
          "base_uri": "https://localhost:8080/"
        },
        "id": "wv4qam7ZWw1a",
        "outputId": "24cf0e55-d720-4abd-b1bd-8134e72c5709"
      },
      "execution_count": 5,
      "outputs": [
        {
          "output_type": "stream",
          "name": "stdout",
          "text": [
            "Index(['id', 'diagnosis', 'radius_mean', 'texture_mean', 'perimeter_mean',\n",
            "       'area_mean', 'smoothness_mean', 'compactness_mean', 'concavity_mean',\n",
            "       'concave points_mean', 'symmetry_mean', 'fractal_dimension_mean',\n",
            "       'radius_se', 'texture_se', 'perimeter_se', 'area_se', 'smoothness_se',\n",
            "       'compactness_se', 'concavity_se', 'concave points_se', 'symmetry_se',\n",
            "       'fractal_dimension_se', 'radius_worst', 'texture_worst',\n",
            "       'perimeter_worst', 'area_worst', 'smoothness_worst',\n",
            "       'compactness_worst', 'concavity_worst', 'concave points_worst',\n",
            "       'symmetry_worst', 'fractal_dimension_worst', 'Unnamed: 32'],\n",
            "      dtype='object')\n"
          ]
        }
      ]
    },
    {
      "cell_type": "markdown",
      "source": [
        "**Memisahkan variabel yang tidak dapat digunakan**\n",
        "\n",
        "(misalnya kolom ID yang tidak relevan untuk prediksi)"
      ],
      "metadata": {
        "id": "mYpBFsE9XH_i"
      }
    },
    {
      "cell_type": "code",
      "source": [
        "df = df.drop(columns=['id', 'Unnamed: 32'])  # 'id' and 'Unnamed: 32' di-drop karena tidak relevan"
      ],
      "metadata": {
        "id": "Oy0nJW56W1XR"
      },
      "execution_count": 6,
      "outputs": []
    },
    {
      "cell_type": "code",
      "source": [
        "print(df.columns)"
      ],
      "metadata": {
        "colab": {
          "base_uri": "https://localhost:8080/"
        },
        "id": "u8Bbsf3eXWBQ",
        "outputId": "ca9fdce8-68b7-460b-8e8a-fc2f0894e461"
      },
      "execution_count": 7,
      "outputs": [
        {
          "output_type": "stream",
          "name": "stdout",
          "text": [
            "Index(['diagnosis', 'radius_mean', 'texture_mean', 'perimeter_mean',\n",
            "       'area_mean', 'smoothness_mean', 'compactness_mean', 'concavity_mean',\n",
            "       'concave points_mean', 'symmetry_mean', 'fractal_dimension_mean',\n",
            "       'radius_se', 'texture_se', 'perimeter_se', 'area_se', 'smoothness_se',\n",
            "       'compactness_se', 'concavity_se', 'concave points_se', 'symmetry_se',\n",
            "       'fractal_dimension_se', 'radius_worst', 'texture_worst',\n",
            "       'perimeter_worst', 'area_worst', 'smoothness_worst',\n",
            "       'compactness_worst', 'concavity_worst', 'concave points_worst',\n",
            "       'symmetry_worst', 'fractal_dimension_worst'],\n",
            "      dtype='object')\n"
          ]
        }
      ]
    },
    {
      "cell_type": "markdown",
      "source": [
        "## **2. Melakukan Encoding pada Kolom \"Diagnosis\"**"
      ],
      "metadata": {
        "id": "wTDp4a4LXi-H"
      }
    },
    {
      "cell_type": "code",
      "source": [
        "from sklearn.preprocessing import LabelEncoder\n",
        "\n",
        "# Menginisialisasi LabelEncoder\n",
        "le = LabelEncoder()\n",
        "\n",
        "# Melakukan encoding pada kolom 'diagnosis' (M = 1, B = 0)\n",
        "df['diagnosis'] = le.fit_transform(df['diagnosis'])\n",
        "\n",
        "# 0 = Benign, 1 = Malignant\n",
        "print(df['diagnosis'].value_counts())"
      ],
      "metadata": {
        "colab": {
          "base_uri": "https://localhost:8080/"
        },
        "id": "gjJ1ZR9TXqc-",
        "outputId": "93d2acd9-8522-4154-9dd1-06001bd418c6"
      },
      "execution_count": 14,
      "outputs": [
        {
          "output_type": "stream",
          "name": "stdout",
          "text": [
            "diagnosis\n",
            "0    357\n",
            "1    212\n",
            "Name: count, dtype: int64\n"
          ]
        }
      ]
    },
    {
      "cell_type": "markdown",
      "source": [
        "## **3. Melakukan Standarisasi pada Kolom Numerik**"
      ],
      "metadata": {
        "id": "X3-_bAoUYNq0"
      }
    },
    {
      "cell_type": "code",
      "source": [
        "from sklearn.preprocessing import StandardScaler\n",
        "\n",
        "# Memisahkan fitur numerik yang akan distandarisasi (selain diagnosis)\n",
        "features = df.drop(columns=['diagnosis'])\n",
        "\n",
        "# Menginisialisasi StandardScaler\n",
        "scaler = StandardScaler()\n",
        "\n",
        "# Melakukan standarisasi pada data\n",
        "scaled_features = scaler.fit_transform(features)\n",
        "\n",
        "# Mengubah data yang sudah distandarisasi menjadi DataFrame\n",
        "df_scaled = pd.DataFrame(scaled_features, columns=features.columns)\n",
        "\n",
        "# Menggabungkan kolom diagnosis kembali ke dalam dataframe yang sudah distandarisasi\n",
        "df_scaled['diagnosis'] = df['diagnosis']\n"
      ],
      "metadata": {
        "id": "xKEh97WLYSe1"
      },
      "execution_count": 16,
      "outputs": []
    },
    {
      "cell_type": "markdown",
      "source": [
        "## **4. Melakukan Stratified Split Data**"
      ],
      "metadata": {
        "id": "mKFpRYK0ZWTC"
      }
    },
    {
      "cell_type": "code",
      "source": [
        "from sklearn.model_selection import train_test_split\n",
        "\n",
        "# Memisahkan fitur (X) dan label (y)\n",
        "X = df_scaled.drop(columns=['diagnosis'])\n",
        "y = df_scaled['diagnosis']\n",
        "\n",
        "# Melakukan stratified split dengan rasio 80:20\n",
        "X_train, X_test, y_train, y_test = train_test_split(X, y, test_size=0.2, stratify=y, random_state=42)\n",
        "\n",
        "# Memeriksa distribusi data latih dan data uji\n",
        "print(f\"Training labels distribution: \\n{y_train.value_counts(normalize=True)}\")\n",
        "print(f\"Testing labels distribution: \\n{y_test.value_counts(normalize=True)}\")\n"
      ],
      "metadata": {
        "colab": {
          "base_uri": "https://localhost:8080/"
        },
        "id": "ZYSUuj0eZiii",
        "outputId": "275d0fc6-eeed-42f1-c927-f8263202a21a"
      },
      "execution_count": 17,
      "outputs": [
        {
          "output_type": "stream",
          "name": "stdout",
          "text": [
            "Training labels distribution: \n",
            "diagnosis\n",
            "0    0.626374\n",
            "1    0.373626\n",
            "Name: proportion, dtype: float64\n",
            "Testing labels distribution: \n",
            "diagnosis\n",
            "0    0.631579\n",
            "1    0.368421\n",
            "Name: proportion, dtype: float64\n"
          ]
        }
      ]
    }
  ]
}